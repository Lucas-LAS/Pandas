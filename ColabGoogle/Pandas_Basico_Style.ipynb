{
  "nbformat": 4,
  "nbformat_minor": 0,
  "metadata": {
    "colab": {
      "name": "Estlos.ipynb",
      "provenance": []
    },
    "kernelspec": {
      "name": "python3",
      "display_name": "Python 3"
    }
  },
  "cells": [
    {
      "cell_type": "markdown",
      "metadata": {
        "id": "PwJcO_3mh6vV",
        "colab_type": "text"
      },
      "source": [
        "# Manipulando estilo"
      ]
    },
    {
      "cell_type": "code",
      "metadata": {
        "id": "w6tQVDxwZU-h",
        "colab_type": "code",
        "outputId": "d70107b9-e8b9-4b79-b26d-159bee5f26aa",
        "colab": {
          "base_uri": "https://localhost:8080/",
          "height": 204
        }
      },
      "source": [
        "import pandas as pd\n",
        "import re\n",
        "\n",
        "link_filme =\"https://raw.githubusercontent.com/alura-cursos/introducao-a-data-science/master/aula4.2/movies.csv\" \n",
        "filmes= pd.read_csv(link_filme)\n",
        "filmes.columns=['ID_Filmes','Nome','Género']\n",
        "filmes.head()"
      ],
      "execution_count": 12,
      "outputs": [
        {
          "output_type": "execute_result",
          "data": {
            "text/html": [
              "<div>\n",
              "<style scoped>\n",
              "    .dataframe tbody tr th:only-of-type {\n",
              "        vertical-align: middle;\n",
              "    }\n",
              "\n",
              "    .dataframe tbody tr th {\n",
              "        vertical-align: top;\n",
              "    }\n",
              "\n",
              "    .dataframe thead th {\n",
              "        text-align: right;\n",
              "    }\n",
              "</style>\n",
              "<table border=\"1\" class=\"dataframe\">\n",
              "  <thead>\n",
              "    <tr style=\"text-align: right;\">\n",
              "      <th></th>\n",
              "      <th>ID_Filmes</th>\n",
              "      <th>Nome</th>\n",
              "      <th>Género</th>\n",
              "    </tr>\n",
              "  </thead>\n",
              "  <tbody>\n",
              "    <tr>\n",
              "      <th>0</th>\n",
              "      <td>1</td>\n",
              "      <td>Toy Story (1995)</td>\n",
              "      <td>Adventure|Animation|Children|Comedy|Fantasy</td>\n",
              "    </tr>\n",
              "    <tr>\n",
              "      <th>1</th>\n",
              "      <td>2</td>\n",
              "      <td>Jumanji (1995)</td>\n",
              "      <td>Adventure|Children|Fantasy</td>\n",
              "    </tr>\n",
              "    <tr>\n",
              "      <th>2</th>\n",
              "      <td>3</td>\n",
              "      <td>Grumpier Old Men (1995)</td>\n",
              "      <td>Comedy|Romance</td>\n",
              "    </tr>\n",
              "    <tr>\n",
              "      <th>3</th>\n",
              "      <td>4</td>\n",
              "      <td>Waiting to Exhale (1995)</td>\n",
              "      <td>Comedy|Drama|Romance</td>\n",
              "    </tr>\n",
              "    <tr>\n",
              "      <th>4</th>\n",
              "      <td>5</td>\n",
              "      <td>Father of the Bride Part II (1995)</td>\n",
              "      <td>Comedy</td>\n",
              "    </tr>\n",
              "  </tbody>\n",
              "</table>\n",
              "</div>"
            ],
            "text/plain": [
              "   ID_Filmes  ...                                       Género\n",
              "0          1  ...  Adventure|Animation|Children|Comedy|Fantasy\n",
              "1          2  ...                   Adventure|Children|Fantasy\n",
              "2          3  ...                               Comedy|Romance\n",
              "3          4  ...                         Comedy|Drama|Romance\n",
              "4          5  ...                                       Comedy\n",
              "\n",
              "[5 rows x 3 columns]"
            ]
          },
          "metadata": {
            "tags": []
          },
          "execution_count": 12
        }
      ]
    },
    {
      "cell_type": "code",
      "metadata": {
        "id": "TW-NXBlSZbo8",
        "colab_type": "code",
        "outputId": "a4cac14f-782b-4a93-8222-0110f00836e7",
        "colab": {
          "base_uri": "https://localhost:8080/",
          "height": 204
        }
      },
      "source": [
        "link_notas ='https://raw.githubusercontent.com/alura-cursos/introducao-a-data-science/master/aula4.1/ratings.csv'\n",
        "notas = pd.read_csv(link_notas)\n",
        "notas.columns = ['ID_Usuario','Filme','Nota','Data']\n",
        "notas.head()"
      ],
      "execution_count": 0,
      "outputs": [
        {
          "output_type": "execute_result",
          "data": {
            "text/html": [
              "<div>\n",
              "<style scoped>\n",
              "    .dataframe tbody tr th:only-of-type {\n",
              "        vertical-align: middle;\n",
              "    }\n",
              "\n",
              "    .dataframe tbody tr th {\n",
              "        vertical-align: top;\n",
              "    }\n",
              "\n",
              "    .dataframe thead th {\n",
              "        text-align: right;\n",
              "    }\n",
              "</style>\n",
              "<table border=\"1\" class=\"dataframe\">\n",
              "  <thead>\n",
              "    <tr style=\"text-align: right;\">\n",
              "      <th></th>\n",
              "      <th>ID_Usuario</th>\n",
              "      <th>Filme</th>\n",
              "      <th>Nota</th>\n",
              "      <th>Data</th>\n",
              "    </tr>\n",
              "  </thead>\n",
              "  <tbody>\n",
              "    <tr>\n",
              "      <th>0</th>\n",
              "      <td>1</td>\n",
              "      <td>1</td>\n",
              "      <td>4.0</td>\n",
              "      <td>964982703</td>\n",
              "    </tr>\n",
              "    <tr>\n",
              "      <th>1</th>\n",
              "      <td>1</td>\n",
              "      <td>3</td>\n",
              "      <td>4.0</td>\n",
              "      <td>964981247</td>\n",
              "    </tr>\n",
              "    <tr>\n",
              "      <th>2</th>\n",
              "      <td>1</td>\n",
              "      <td>6</td>\n",
              "      <td>4.0</td>\n",
              "      <td>964982224</td>\n",
              "    </tr>\n",
              "    <tr>\n",
              "      <th>3</th>\n",
              "      <td>1</td>\n",
              "      <td>47</td>\n",
              "      <td>5.0</td>\n",
              "      <td>964983815</td>\n",
              "    </tr>\n",
              "    <tr>\n",
              "      <th>4</th>\n",
              "      <td>1</td>\n",
              "      <td>50</td>\n",
              "      <td>5.0</td>\n",
              "      <td>964982931</td>\n",
              "    </tr>\n",
              "  </tbody>\n",
              "</table>\n",
              "</div>"
            ],
            "text/plain": [
              "   ID_Usuario  Filme  Nota       Data\n",
              "0           1      1   4.0  964982703\n",
              "1           1      3   4.0  964981247\n",
              "2           1      6   4.0  964982224\n",
              "3           1     47   5.0  964983815\n",
              "4           1     50   5.0  964982931"
            ]
          },
          "metadata": {
            "tags": []
          },
          "execution_count": 2
        }
      ]
    },
    {
      "cell_type": "code",
      "metadata": {
        "id": "w8QmLSd5aB3j",
        "colab_type": "code",
        "colab": {}
      },
      "source": [
        "def color_red(val):\n",
        "  color = 'red' if val<2 else 'black'\n",
        "  return 'color: %s'% color "
      ],
      "execution_count": 0,
      "outputs": []
    },
    {
      "cell_type": "code",
      "metadata": {
        "id": "Qa7BP-URbkVo",
        "colab_type": "code",
        "outputId": "cfc2f382-e265-4326-af66-8fc4b87bd3d2",
        "colab": {
          "base_uri": "https://localhost:8080/",
          "height": 145
        }
      },
      "source": [
        "s=notas.head().style.applymap(color_red,subset=['ID_Usuario'])\n",
        "s"
      ],
      "execution_count": 0,
      "outputs": [
        {
          "output_type": "execute_result",
          "data": {
            "text/html": [
              "<style  type=\"text/css\" >\n",
              "    #T_05cf41de_e468_11e9_8c94_0242ac1c0002row0_col0 {\n",
              "            color:  red;\n",
              "        }    #T_05cf41de_e468_11e9_8c94_0242ac1c0002row1_col0 {\n",
              "            color:  red;\n",
              "        }    #T_05cf41de_e468_11e9_8c94_0242ac1c0002row2_col0 {\n",
              "            color:  red;\n",
              "        }    #T_05cf41de_e468_11e9_8c94_0242ac1c0002row3_col0 {\n",
              "            color:  red;\n",
              "        }    #T_05cf41de_e468_11e9_8c94_0242ac1c0002row4_col0 {\n",
              "            color:  red;\n",
              "        }</style><table id=\"T_05cf41de_e468_11e9_8c94_0242ac1c0002\" ><thead>    <tr>        <th class=\"blank level0\" ></th>        <th class=\"col_heading level0 col0\" >ID_Usuario</th>        <th class=\"col_heading level0 col1\" >Filme</th>        <th class=\"col_heading level0 col2\" >Nota</th>        <th class=\"col_heading level0 col3\" >Data</th>    </tr></thead><tbody>\n",
              "                <tr>\n",
              "                        <th id=\"T_05cf41de_e468_11e9_8c94_0242ac1c0002level0_row0\" class=\"row_heading level0 row0\" >0</th>\n",
              "                        <td id=\"T_05cf41de_e468_11e9_8c94_0242ac1c0002row0_col0\" class=\"data row0 col0\" >1</td>\n",
              "                        <td id=\"T_05cf41de_e468_11e9_8c94_0242ac1c0002row0_col1\" class=\"data row0 col1\" >1</td>\n",
              "                        <td id=\"T_05cf41de_e468_11e9_8c94_0242ac1c0002row0_col2\" class=\"data row0 col2\" >4</td>\n",
              "                        <td id=\"T_05cf41de_e468_11e9_8c94_0242ac1c0002row0_col3\" class=\"data row0 col3\" >964982703</td>\n",
              "            </tr>\n",
              "            <tr>\n",
              "                        <th id=\"T_05cf41de_e468_11e9_8c94_0242ac1c0002level0_row1\" class=\"row_heading level0 row1\" >1</th>\n",
              "                        <td id=\"T_05cf41de_e468_11e9_8c94_0242ac1c0002row1_col0\" class=\"data row1 col0\" >1</td>\n",
              "                        <td id=\"T_05cf41de_e468_11e9_8c94_0242ac1c0002row1_col1\" class=\"data row1 col1\" >3</td>\n",
              "                        <td id=\"T_05cf41de_e468_11e9_8c94_0242ac1c0002row1_col2\" class=\"data row1 col2\" >4</td>\n",
              "                        <td id=\"T_05cf41de_e468_11e9_8c94_0242ac1c0002row1_col3\" class=\"data row1 col3\" >964981247</td>\n",
              "            </tr>\n",
              "            <tr>\n",
              "                        <th id=\"T_05cf41de_e468_11e9_8c94_0242ac1c0002level0_row2\" class=\"row_heading level0 row2\" >2</th>\n",
              "                        <td id=\"T_05cf41de_e468_11e9_8c94_0242ac1c0002row2_col0\" class=\"data row2 col0\" >1</td>\n",
              "                        <td id=\"T_05cf41de_e468_11e9_8c94_0242ac1c0002row2_col1\" class=\"data row2 col1\" >6</td>\n",
              "                        <td id=\"T_05cf41de_e468_11e9_8c94_0242ac1c0002row2_col2\" class=\"data row2 col2\" >4</td>\n",
              "                        <td id=\"T_05cf41de_e468_11e9_8c94_0242ac1c0002row2_col3\" class=\"data row2 col3\" >964982224</td>\n",
              "            </tr>\n",
              "            <tr>\n",
              "                        <th id=\"T_05cf41de_e468_11e9_8c94_0242ac1c0002level0_row3\" class=\"row_heading level0 row3\" >3</th>\n",
              "                        <td id=\"T_05cf41de_e468_11e9_8c94_0242ac1c0002row3_col0\" class=\"data row3 col0\" >1</td>\n",
              "                        <td id=\"T_05cf41de_e468_11e9_8c94_0242ac1c0002row3_col1\" class=\"data row3 col1\" >47</td>\n",
              "                        <td id=\"T_05cf41de_e468_11e9_8c94_0242ac1c0002row3_col2\" class=\"data row3 col2\" >5</td>\n",
              "                        <td id=\"T_05cf41de_e468_11e9_8c94_0242ac1c0002row3_col3\" class=\"data row3 col3\" >964983815</td>\n",
              "            </tr>\n",
              "            <tr>\n",
              "                        <th id=\"T_05cf41de_e468_11e9_8c94_0242ac1c0002level0_row4\" class=\"row_heading level0 row4\" >4</th>\n",
              "                        <td id=\"T_05cf41de_e468_11e9_8c94_0242ac1c0002row4_col0\" class=\"data row4 col0\" >1</td>\n",
              "                        <td id=\"T_05cf41de_e468_11e9_8c94_0242ac1c0002row4_col1\" class=\"data row4 col1\" >50</td>\n",
              "                        <td id=\"T_05cf41de_e468_11e9_8c94_0242ac1c0002row4_col2\" class=\"data row4 col2\" >5</td>\n",
              "                        <td id=\"T_05cf41de_e468_11e9_8c94_0242ac1c0002row4_col3\" class=\"data row4 col3\" >964982931</td>\n",
              "            </tr>\n",
              "    </tbody></table>"
            ],
            "text/plain": [
              "<pandas.io.formats.style.Styler at 0x7fbdf2b5a2e8>"
            ]
          },
          "metadata": {
            "tags": []
          },
          "execution_count": 4
        }
      ]
    },
    {
      "cell_type": "code",
      "metadata": {
        "id": "QRCtZQXVdbyD",
        "colab_type": "code",
        "colab": {}
      },
      "source": [
        "def testes_nome(name):\n",
        "  \n",
        "  \n",
        "  cor = 'red' if re.search(r'Toy Story[.]*', name)  else 'blue'\n",
        " \n",
        "  return 'color:%s' % cor\n",
        "  "
      ],
      "execution_count": 0,
      "outputs": []
    },
    {
      "cell_type": "code",
      "metadata": {
        "id": "4FuPy_uiqAwT",
        "colab_type": "code",
        "outputId": "f5b2b2b2-3fd2-4d98-9a1a-77285034c74e",
        "colab": {
          "base_uri": "https://localhost:8080/",
          "height": 145
        }
      },
      "source": [
        "n=filmes.head().style.applymap(testes_nome,subset=['Nome'])\n",
        "n"
      ],
      "execution_count": 0,
      "outputs": [
        {
          "output_type": "execute_result",
          "data": {
            "text/html": [
              "<style  type=\"text/css\" >\n",
              "    #T_05d4c406_e468_11e9_8c94_0242ac1c0002row0_col1 {\n",
              "            color: red;\n",
              "        }    #T_05d4c406_e468_11e9_8c94_0242ac1c0002row1_col1 {\n",
              "            color: blue;\n",
              "        }    #T_05d4c406_e468_11e9_8c94_0242ac1c0002row2_col1 {\n",
              "            color: blue;\n",
              "        }    #T_05d4c406_e468_11e9_8c94_0242ac1c0002row3_col1 {\n",
              "            color: blue;\n",
              "        }    #T_05d4c406_e468_11e9_8c94_0242ac1c0002row4_col1 {\n",
              "            color: blue;\n",
              "        }</style><table id=\"T_05d4c406_e468_11e9_8c94_0242ac1c0002\" ><thead>    <tr>        <th class=\"blank level0\" ></th>        <th class=\"col_heading level0 col0\" >ID_Filmes</th>        <th class=\"col_heading level0 col1\" >Nome</th>        <th class=\"col_heading level0 col2\" >Género</th>    </tr></thead><tbody>\n",
              "                <tr>\n",
              "                        <th id=\"T_05d4c406_e468_11e9_8c94_0242ac1c0002level0_row0\" class=\"row_heading level0 row0\" >0</th>\n",
              "                        <td id=\"T_05d4c406_e468_11e9_8c94_0242ac1c0002row0_col0\" class=\"data row0 col0\" >1</td>\n",
              "                        <td id=\"T_05d4c406_e468_11e9_8c94_0242ac1c0002row0_col1\" class=\"data row0 col1\" >Toy Story (1995)</td>\n",
              "                        <td id=\"T_05d4c406_e468_11e9_8c94_0242ac1c0002row0_col2\" class=\"data row0 col2\" >Adventure|Animation|Children|Comedy|Fantasy</td>\n",
              "            </tr>\n",
              "            <tr>\n",
              "                        <th id=\"T_05d4c406_e468_11e9_8c94_0242ac1c0002level0_row1\" class=\"row_heading level0 row1\" >1</th>\n",
              "                        <td id=\"T_05d4c406_e468_11e9_8c94_0242ac1c0002row1_col0\" class=\"data row1 col0\" >2</td>\n",
              "                        <td id=\"T_05d4c406_e468_11e9_8c94_0242ac1c0002row1_col1\" class=\"data row1 col1\" >Jumanji (1995)</td>\n",
              "                        <td id=\"T_05d4c406_e468_11e9_8c94_0242ac1c0002row1_col2\" class=\"data row1 col2\" >Adventure|Children|Fantasy</td>\n",
              "            </tr>\n",
              "            <tr>\n",
              "                        <th id=\"T_05d4c406_e468_11e9_8c94_0242ac1c0002level0_row2\" class=\"row_heading level0 row2\" >2</th>\n",
              "                        <td id=\"T_05d4c406_e468_11e9_8c94_0242ac1c0002row2_col0\" class=\"data row2 col0\" >3</td>\n",
              "                        <td id=\"T_05d4c406_e468_11e9_8c94_0242ac1c0002row2_col1\" class=\"data row2 col1\" >Grumpier Old Men (1995)</td>\n",
              "                        <td id=\"T_05d4c406_e468_11e9_8c94_0242ac1c0002row2_col2\" class=\"data row2 col2\" >Comedy|Romance</td>\n",
              "            </tr>\n",
              "            <tr>\n",
              "                        <th id=\"T_05d4c406_e468_11e9_8c94_0242ac1c0002level0_row3\" class=\"row_heading level0 row3\" >3</th>\n",
              "                        <td id=\"T_05d4c406_e468_11e9_8c94_0242ac1c0002row3_col0\" class=\"data row3 col0\" >4</td>\n",
              "                        <td id=\"T_05d4c406_e468_11e9_8c94_0242ac1c0002row3_col1\" class=\"data row3 col1\" >Waiting to Exhale (1995)</td>\n",
              "                        <td id=\"T_05d4c406_e468_11e9_8c94_0242ac1c0002row3_col2\" class=\"data row3 col2\" >Comedy|Drama|Romance</td>\n",
              "            </tr>\n",
              "            <tr>\n",
              "                        <th id=\"T_05d4c406_e468_11e9_8c94_0242ac1c0002level0_row4\" class=\"row_heading level0 row4\" >4</th>\n",
              "                        <td id=\"T_05d4c406_e468_11e9_8c94_0242ac1c0002row4_col0\" class=\"data row4 col0\" >5</td>\n",
              "                        <td id=\"T_05d4c406_e468_11e9_8c94_0242ac1c0002row4_col1\" class=\"data row4 col1\" >Father of the Bride Part II (1995)</td>\n",
              "                        <td id=\"T_05d4c406_e468_11e9_8c94_0242ac1c0002row4_col2\" class=\"data row4 col2\" >Comedy</td>\n",
              "            </tr>\n",
              "    </tbody></table>"
            ],
            "text/plain": [
              "<pandas.io.formats.style.Styler at 0x7fbdf257eb00>"
            ]
          },
          "metadata": {
            "tags": []
          },
          "execution_count": 6
        }
      ]
    },
    {
      "cell_type": "code",
      "metadata": {
        "colab_type": "code",
        "id": "Zu2vxTaz-zqN",
        "outputId": "adee33c8-6a68-460f-b2e0-9b6ac0061d24",
        "colab": {
          "base_uri": "https://localhost:8080/",
          "height": 204
        }
      },
      "source": [
        "from datetime import datetime\n",
        "d1= datetime.now( )\n",
        "valores = pd.DataFrame({'Data':['2019-09-24 13:06:18','2019-09-24 12:59:56',\n",
        "'2019-09-24 13:04:44',\n",
        "'2019-09-24 13:06:44',\n",
        "'2019-09-24 13:05:15',\n",
        "'2019-09-24 13:05:39',\n",
        "'2019-09-24 13:06:23',\n",
        "'2019-09-24 13:05:44',\n",
        "'2019-09-24 13:02:17',\n",
        "'2019-09-24 13:06:08',\n",
        "'2019-09-24 13:05:14',\n",
        "'2019-09-24 13:05:32',\n",
        "'2019-09-24 13:06:27',\n",
        "'2019-09-28 10:05:57'],\n",
        "'Placa':['FCL-5195',\n",
        "'GCN-2159',\n",
        "'FNE-4788',\n",
        "'FST-7136',\n",
        "'FOM-1791',\n",
        "'FBV-1459',\n",
        "'FSR-8899',\n",
        "'GCX-9849',\n",
        "'GCU-1666',\n",
        "'FPF-9246',\n",
        "'FCE-3543',\n",
        "'FPC-9995',\n",
        "'GFS-8513',\n",
        "'GCV-9512']})\n",
        "valores.head()"
      ],
      "execution_count": 0,
      "outputs": [
        {
          "output_type": "execute_result",
          "data": {
            "text/html": [
              "<div>\n",
              "<style scoped>\n",
              "    .dataframe tbody tr th:only-of-type {\n",
              "        vertical-align: middle;\n",
              "    }\n",
              "\n",
              "    .dataframe tbody tr th {\n",
              "        vertical-align: top;\n",
              "    }\n",
              "\n",
              "    .dataframe thead th {\n",
              "        text-align: right;\n",
              "    }\n",
              "</style>\n",
              "<table border=\"1\" class=\"dataframe\">\n",
              "  <thead>\n",
              "    <tr style=\"text-align: right;\">\n",
              "      <th></th>\n",
              "      <th>Data</th>\n",
              "      <th>Placa</th>\n",
              "    </tr>\n",
              "  </thead>\n",
              "  <tbody>\n",
              "    <tr>\n",
              "      <th>0</th>\n",
              "      <td>2019-09-24 13:06:18</td>\n",
              "      <td>FCL-5195</td>\n",
              "    </tr>\n",
              "    <tr>\n",
              "      <th>1</th>\n",
              "      <td>2019-09-24 12:59:56</td>\n",
              "      <td>GCN-2159</td>\n",
              "    </tr>\n",
              "    <tr>\n",
              "      <th>2</th>\n",
              "      <td>2019-09-24 13:04:44</td>\n",
              "      <td>FNE-4788</td>\n",
              "    </tr>\n",
              "    <tr>\n",
              "      <th>3</th>\n",
              "      <td>2019-09-24 13:06:44</td>\n",
              "      <td>FST-7136</td>\n",
              "    </tr>\n",
              "    <tr>\n",
              "      <th>4</th>\n",
              "      <td>2019-09-24 13:05:15</td>\n",
              "      <td>FOM-1791</td>\n",
              "    </tr>\n",
              "  </tbody>\n",
              "</table>\n",
              "</div>"
            ],
            "text/plain": [
              "                  Data     Placa\n",
              "0  2019-09-24 13:06:18  FCL-5195\n",
              "1  2019-09-24 12:59:56  GCN-2159\n",
              "2  2019-09-24 13:04:44  FNE-4788\n",
              "3  2019-09-24 13:06:44  FST-7136\n",
              "4  2019-09-24 13:05:15  FOM-1791"
            ]
          },
          "metadata": {
            "tags": []
          },
          "execution_count": 7
        }
      ]
    },
    {
      "cell_type": "markdown",
      "metadata": {
        "id": "vLrpq7DHbrKP",
        "colab_type": "text"
      },
      "source": [
        "## Background-color\n",
        ">  Usa o mesmo metodo para coloca estilos na fontes utilizando o biblioteca **pandas** e função **style.applymap()** unica diferença que utilizamos o ***background-color*** no lugar de **color** \n",
        ">> *Conforme Exemplo abaixo* "
      ]
    },
    {
      "cell_type": "code",
      "metadata": {
        "id": "HCcQdAYUCfgY",
        "colab_type": "code",
        "colab": {}
      },
      "source": [
        "def hora(data_hora):\n",
        "  hora=datetime.strptime(data_hora,'%Y-%m-%d %H:%M:%S')\n",
        "  com_hora=abs((datetime.today( )-hora).days)\n",
        "  cor = 'red' if com_hora>=1 else 'green'\n",
        "  return 'background-color : %s' % cor\n",
        "\n"
      ],
      "execution_count": 0,
      "outputs": []
    },
    {
      "cell_type": "code",
      "metadata": {
        "id": "7Q1vz09PKZ4i",
        "colab_type": "code",
        "outputId": "74d13a87-80ae-4751-bd4f-2abb32dcbadd",
        "colab": {
          "base_uri": "https://localhost:8080/",
          "height": 334
        }
      },
      "source": [
        "s_valores =valores.style.applymap(hora,subset='Data')\n",
        "s_valores"
      ],
      "execution_count": 0,
      "outputs": [
        {
          "output_type": "execute_result",
          "data": {
            "text/html": [
              "<style  type=\"text/css\" >\n",
              "    #T_05e01f9a_e468_11e9_8c94_0242ac1c0002row0_col0 {\n",
              "            background-color :  red;\n",
              "        }    #T_05e01f9a_e468_11e9_8c94_0242ac1c0002row1_col0 {\n",
              "            background-color :  red;\n",
              "        }    #T_05e01f9a_e468_11e9_8c94_0242ac1c0002row2_col0 {\n",
              "            background-color :  red;\n",
              "        }    #T_05e01f9a_e468_11e9_8c94_0242ac1c0002row3_col0 {\n",
              "            background-color :  red;\n",
              "        }    #T_05e01f9a_e468_11e9_8c94_0242ac1c0002row4_col0 {\n",
              "            background-color :  red;\n",
              "        }    #T_05e01f9a_e468_11e9_8c94_0242ac1c0002row5_col0 {\n",
              "            background-color :  red;\n",
              "        }    #T_05e01f9a_e468_11e9_8c94_0242ac1c0002row6_col0 {\n",
              "            background-color :  red;\n",
              "        }    #T_05e01f9a_e468_11e9_8c94_0242ac1c0002row7_col0 {\n",
              "            background-color :  red;\n",
              "        }    #T_05e01f9a_e468_11e9_8c94_0242ac1c0002row8_col0 {\n",
              "            background-color :  red;\n",
              "        }    #T_05e01f9a_e468_11e9_8c94_0242ac1c0002row9_col0 {\n",
              "            background-color :  red;\n",
              "        }    #T_05e01f9a_e468_11e9_8c94_0242ac1c0002row10_col0 {\n",
              "            background-color :  red;\n",
              "        }    #T_05e01f9a_e468_11e9_8c94_0242ac1c0002row11_col0 {\n",
              "            background-color :  red;\n",
              "        }    #T_05e01f9a_e468_11e9_8c94_0242ac1c0002row12_col0 {\n",
              "            background-color :  red;\n",
              "        }    #T_05e01f9a_e468_11e9_8c94_0242ac1c0002row13_col0 {\n",
              "            background-color :  red;\n",
              "        }</style><table id=\"T_05e01f9a_e468_11e9_8c94_0242ac1c0002\" ><thead>    <tr>        <th class=\"blank level0\" ></th>        <th class=\"col_heading level0 col0\" >Data</th>        <th class=\"col_heading level0 col1\" >Placa</th>    </tr></thead><tbody>\n",
              "                <tr>\n",
              "                        <th id=\"T_05e01f9a_e468_11e9_8c94_0242ac1c0002level0_row0\" class=\"row_heading level0 row0\" >0</th>\n",
              "                        <td id=\"T_05e01f9a_e468_11e9_8c94_0242ac1c0002row0_col0\" class=\"data row0 col0\" >2019-09-24 13:06:18</td>\n",
              "                        <td id=\"T_05e01f9a_e468_11e9_8c94_0242ac1c0002row0_col1\" class=\"data row0 col1\" >FCL-5195</td>\n",
              "            </tr>\n",
              "            <tr>\n",
              "                        <th id=\"T_05e01f9a_e468_11e9_8c94_0242ac1c0002level0_row1\" class=\"row_heading level0 row1\" >1</th>\n",
              "                        <td id=\"T_05e01f9a_e468_11e9_8c94_0242ac1c0002row1_col0\" class=\"data row1 col0\" >2019-09-24 12:59:56</td>\n",
              "                        <td id=\"T_05e01f9a_e468_11e9_8c94_0242ac1c0002row1_col1\" class=\"data row1 col1\" >GCN-2159</td>\n",
              "            </tr>\n",
              "            <tr>\n",
              "                        <th id=\"T_05e01f9a_e468_11e9_8c94_0242ac1c0002level0_row2\" class=\"row_heading level0 row2\" >2</th>\n",
              "                        <td id=\"T_05e01f9a_e468_11e9_8c94_0242ac1c0002row2_col0\" class=\"data row2 col0\" >2019-09-24 13:04:44</td>\n",
              "                        <td id=\"T_05e01f9a_e468_11e9_8c94_0242ac1c0002row2_col1\" class=\"data row2 col1\" >FNE-4788</td>\n",
              "            </tr>\n",
              "            <tr>\n",
              "                        <th id=\"T_05e01f9a_e468_11e9_8c94_0242ac1c0002level0_row3\" class=\"row_heading level0 row3\" >3</th>\n",
              "                        <td id=\"T_05e01f9a_e468_11e9_8c94_0242ac1c0002row3_col0\" class=\"data row3 col0\" >2019-09-24 13:06:44</td>\n",
              "                        <td id=\"T_05e01f9a_e468_11e9_8c94_0242ac1c0002row3_col1\" class=\"data row3 col1\" >FST-7136</td>\n",
              "            </tr>\n",
              "            <tr>\n",
              "                        <th id=\"T_05e01f9a_e468_11e9_8c94_0242ac1c0002level0_row4\" class=\"row_heading level0 row4\" >4</th>\n",
              "                        <td id=\"T_05e01f9a_e468_11e9_8c94_0242ac1c0002row4_col0\" class=\"data row4 col0\" >2019-09-24 13:05:15</td>\n",
              "                        <td id=\"T_05e01f9a_e468_11e9_8c94_0242ac1c0002row4_col1\" class=\"data row4 col1\" >FOM-1791</td>\n",
              "            </tr>\n",
              "            <tr>\n",
              "                        <th id=\"T_05e01f9a_e468_11e9_8c94_0242ac1c0002level0_row5\" class=\"row_heading level0 row5\" >5</th>\n",
              "                        <td id=\"T_05e01f9a_e468_11e9_8c94_0242ac1c0002row5_col0\" class=\"data row5 col0\" >2019-09-24 13:05:39</td>\n",
              "                        <td id=\"T_05e01f9a_e468_11e9_8c94_0242ac1c0002row5_col1\" class=\"data row5 col1\" >FBV-1459</td>\n",
              "            </tr>\n",
              "            <tr>\n",
              "                        <th id=\"T_05e01f9a_e468_11e9_8c94_0242ac1c0002level0_row6\" class=\"row_heading level0 row6\" >6</th>\n",
              "                        <td id=\"T_05e01f9a_e468_11e9_8c94_0242ac1c0002row6_col0\" class=\"data row6 col0\" >2019-09-24 13:06:23</td>\n",
              "                        <td id=\"T_05e01f9a_e468_11e9_8c94_0242ac1c0002row6_col1\" class=\"data row6 col1\" >FSR-8899</td>\n",
              "            </tr>\n",
              "            <tr>\n",
              "                        <th id=\"T_05e01f9a_e468_11e9_8c94_0242ac1c0002level0_row7\" class=\"row_heading level0 row7\" >7</th>\n",
              "                        <td id=\"T_05e01f9a_e468_11e9_8c94_0242ac1c0002row7_col0\" class=\"data row7 col0\" >2019-09-24 13:05:44</td>\n",
              "                        <td id=\"T_05e01f9a_e468_11e9_8c94_0242ac1c0002row7_col1\" class=\"data row7 col1\" >GCX-9849</td>\n",
              "            </tr>\n",
              "            <tr>\n",
              "                        <th id=\"T_05e01f9a_e468_11e9_8c94_0242ac1c0002level0_row8\" class=\"row_heading level0 row8\" >8</th>\n",
              "                        <td id=\"T_05e01f9a_e468_11e9_8c94_0242ac1c0002row8_col0\" class=\"data row8 col0\" >2019-09-24 13:02:17</td>\n",
              "                        <td id=\"T_05e01f9a_e468_11e9_8c94_0242ac1c0002row8_col1\" class=\"data row8 col1\" >GCU-1666</td>\n",
              "            </tr>\n",
              "            <tr>\n",
              "                        <th id=\"T_05e01f9a_e468_11e9_8c94_0242ac1c0002level0_row9\" class=\"row_heading level0 row9\" >9</th>\n",
              "                        <td id=\"T_05e01f9a_e468_11e9_8c94_0242ac1c0002row9_col0\" class=\"data row9 col0\" >2019-09-24 13:06:08</td>\n",
              "                        <td id=\"T_05e01f9a_e468_11e9_8c94_0242ac1c0002row9_col1\" class=\"data row9 col1\" >FPF-9246</td>\n",
              "            </tr>\n",
              "            <tr>\n",
              "                        <th id=\"T_05e01f9a_e468_11e9_8c94_0242ac1c0002level0_row10\" class=\"row_heading level0 row10\" >10</th>\n",
              "                        <td id=\"T_05e01f9a_e468_11e9_8c94_0242ac1c0002row10_col0\" class=\"data row10 col0\" >2019-09-24 13:05:14</td>\n",
              "                        <td id=\"T_05e01f9a_e468_11e9_8c94_0242ac1c0002row10_col1\" class=\"data row10 col1\" >FCE-3543</td>\n",
              "            </tr>\n",
              "            <tr>\n",
              "                        <th id=\"T_05e01f9a_e468_11e9_8c94_0242ac1c0002level0_row11\" class=\"row_heading level0 row11\" >11</th>\n",
              "                        <td id=\"T_05e01f9a_e468_11e9_8c94_0242ac1c0002row11_col0\" class=\"data row11 col0\" >2019-09-24 13:05:32</td>\n",
              "                        <td id=\"T_05e01f9a_e468_11e9_8c94_0242ac1c0002row11_col1\" class=\"data row11 col1\" >FPC-9995</td>\n",
              "            </tr>\n",
              "            <tr>\n",
              "                        <th id=\"T_05e01f9a_e468_11e9_8c94_0242ac1c0002level0_row12\" class=\"row_heading level0 row12\" >12</th>\n",
              "                        <td id=\"T_05e01f9a_e468_11e9_8c94_0242ac1c0002row12_col0\" class=\"data row12 col0\" >2019-09-24 13:06:27</td>\n",
              "                        <td id=\"T_05e01f9a_e468_11e9_8c94_0242ac1c0002row12_col1\" class=\"data row12 col1\" >GFS-8513</td>\n",
              "            </tr>\n",
              "            <tr>\n",
              "                        <th id=\"T_05e01f9a_e468_11e9_8c94_0242ac1c0002level0_row13\" class=\"row_heading level0 row13\" >13</th>\n",
              "                        <td id=\"T_05e01f9a_e468_11e9_8c94_0242ac1c0002row13_col0\" class=\"data row13 col0\" >2019-09-28 10:05:57</td>\n",
              "                        <td id=\"T_05e01f9a_e468_11e9_8c94_0242ac1c0002row13_col1\" class=\"data row13 col1\" >GCV-9512</td>\n",
              "            </tr>\n",
              "    </tbody></table>"
            ],
            "text/plain": [
              "<pandas.io.formats.style.Styler at 0x7fbdf25aa588>"
            ]
          },
          "metadata": {
            "tags": []
          },
          "execution_count": 9
        }
      ]
    },
    {
      "cell_type": "markdown",
      "metadata": {
        "id": "CERUNrpAhZAL",
        "colab_type": "text"
      },
      "source": [
        ""
      ]
    },
    {
      "cell_type": "markdown",
      "metadata": {
        "id": "GZ287ltviHX0",
        "colab_type": "text"
      },
      "source": [
        "# Profiling "
      ]
    },
    {
      "cell_type": "code",
      "metadata": {
        "id": "iO3ZXW9RiOUW",
        "colab_type": "code",
        "outputId": "58a022d0-fc10-411f-f043-422b8c9032bb",
        "colab": {
          "base_uri": "https://localhost:8080/",
          "height": 197
        }
      },
      "source": [
        "import pandas_profiling\n",
        "pandas_profiling.ProfileReport(notas)\n",
        "# sava em html isso depois "
      ],
      "execution_count": 4,
      "outputs": [
        {
          "output_type": "error",
          "ename": "NameError",
          "evalue": "ignored",
          "traceback": [
            "\u001b[0;31m---------------------------------------------------------------------------\u001b[0m",
            "\u001b[0;31mNameError\u001b[0m                                 Traceback (most recent call last)",
            "\u001b[0;32m<ipython-input-4-2eece1c82e82>\u001b[0m in \u001b[0;36m<module>\u001b[0;34m()\u001b[0m\n\u001b[1;32m      1\u001b[0m \u001b[0;32mimport\u001b[0m \u001b[0mpandas_profiling\u001b[0m\u001b[0;34m\u001b[0m\u001b[0;34m\u001b[0m\u001b[0m\n\u001b[0;32m----> 2\u001b[0;31m \u001b[0mpandas_profiling\u001b[0m\u001b[0;34m.\u001b[0m\u001b[0mProfileReport\u001b[0m\u001b[0;34m(\u001b[0m\u001b[0mnotas\u001b[0m\u001b[0;34m)\u001b[0m\u001b[0;34m\u001b[0m\u001b[0;34m\u001b[0m\u001b[0m\n\u001b[0m\u001b[1;32m      3\u001b[0m \u001b[0;31m# sava em html isso depois\u001b[0m\u001b[0;34m\u001b[0m\u001b[0;34m\u001b[0m\u001b[0;34m\u001b[0m\u001b[0m\n",
            "\u001b[0;31mNameError\u001b[0m: name 'notas' is not defined"
          ]
        }
      ]
    },
    {
      "cell_type": "markdown",
      "metadata": {
        "id": "3vWnYNOLjTRU",
        "colab_type": "text"
      },
      "source": [
        "## ProfileReport\n",
        "> Criar um analise da estrutura do DataFrame, exibindo informções de colunas até tipo de dados realação entre a colunas "
      ]
    },
    {
      "cell_type": "markdown",
      "metadata": {
        "id": "SI7AF5_g6WTT",
        "colab_type": "text"
      },
      "source": [
        "# Informações basica do dataframe "
      ]
    },
    {
      "cell_type": "code",
      "metadata": {
        "id": "XmhCYDiu6p9z",
        "colab_type": "code",
        "outputId": "7426879f-99be-4dfb-b516-e880556f6300",
        "colab": {
          "base_uri": "https://localhost:8080/",
          "height": 163
        }
      },
      "source": [
        "notas.info()"
      ],
      "execution_count": 6,
      "outputs": [
        {
          "output_type": "error",
          "ename": "NameError",
          "evalue": "ignored",
          "traceback": [
            "\u001b[0;31m---------------------------------------------------------------------------\u001b[0m",
            "\u001b[0;31mNameError\u001b[0m                                 Traceback (most recent call last)",
            "\u001b[0;32m<ipython-input-6-5de62a8e1e32>\u001b[0m in \u001b[0;36m<module>\u001b[0;34m()\u001b[0m\n\u001b[0;32m----> 1\u001b[0;31m \u001b[0mnotas\u001b[0m\u001b[0;34m.\u001b[0m\u001b[0minfo\u001b[0m\u001b[0;34m(\u001b[0m\u001b[0;34m)\u001b[0m\u001b[0;34m\u001b[0m\u001b[0;34m\u001b[0m\u001b[0m\n\u001b[0m",
            "\u001b[0;31mNameError\u001b[0m: name 'notas' is not defined"
          ]
        }
      ]
    },
    {
      "cell_type": "code",
      "metadata": {
        "id": "5Qa9od_y-AH_",
        "colab_type": "code",
        "outputId": "fec61387-c6e1-4140-9268-725ffdc48536",
        "colab": {
          "base_uri": "https://localhost:8080/",
          "height": 163
        }
      },
      "source": [
        "notas.index()"
      ],
      "execution_count": 7,
      "outputs": [
        {
          "output_type": "error",
          "ename": "NameError",
          "evalue": "ignored",
          "traceback": [
            "\u001b[0;31m---------------------------------------------------------------------------\u001b[0m",
            "\u001b[0;31mNameError\u001b[0m                                 Traceback (most recent call last)",
            "\u001b[0;32m<ipython-input-7-e38242ef813f>\u001b[0m in \u001b[0;36m<module>\u001b[0;34m()\u001b[0m\n\u001b[0;32m----> 1\u001b[0;31m \u001b[0mnotas\u001b[0m\u001b[0;34m.\u001b[0m\u001b[0mindex\u001b[0m\u001b[0;34m(\u001b[0m\u001b[0;34m)\u001b[0m\u001b[0;34m\u001b[0m\u001b[0;34m\u001b[0m\u001b[0m\n\u001b[0m",
            "\u001b[0;31mNameError\u001b[0m: name 'notas' is not defined"
          ]
        }
      ]
    },
    {
      "cell_type": "markdown",
      "metadata": {
        "id": "UB7jJT6lfUxu",
        "colab_type": "text"
      },
      "source": [
        "> Metodo **info()** exibir a estrutura de inicio e fim mostrando sequência da ordem do index. Todas essas informações são baseadas no index e não na quantidade de item no dataframe. \n",
        "\n",
        ">> **Exemplo** O dataframe ***notas*** inicia seu index no 0, mas caso dataframe iniciasse no 1 e pulasse em dois em dois o indiice mostarias informações diferente conforme exemplo a baixo."
      ]
    },
    {
      "cell_type": "code",
      "metadata": {
        "id": "RenA8pGshZcm",
        "colab_type": "code",
        "outputId": "9e374288-51bb-44c3-de0c-3b1cb4dd684a",
        "colab": {
          "base_uri": "https://localhost:8080/",
          "height": 204
        }
      },
      "source": [
        "exemplo_info = pd.DataFrame({'Indice':[1,3,5,7],'nome':['lucas','eduarda','jose','maria'],'idade':[26,22,60,56],'sexo':['M','F','M','F']})\n",
        "exemplo_info.set_index('Indice', inplace = True) # inplace altera o DataFrame raiz não é necessário armazenar e outra variavel\n",
        "exemplo_info"
      ],
      "execution_count": 13,
      "outputs": [
        {
          "output_type": "execute_result",
          "data": {
            "text/html": [
              "<div>\n",
              "<style scoped>\n",
              "    .dataframe tbody tr th:only-of-type {\n",
              "        vertical-align: middle;\n",
              "    }\n",
              "\n",
              "    .dataframe tbody tr th {\n",
              "        vertical-align: top;\n",
              "    }\n",
              "\n",
              "    .dataframe thead th {\n",
              "        text-align: right;\n",
              "    }\n",
              "</style>\n",
              "<table border=\"1\" class=\"dataframe\">\n",
              "  <thead>\n",
              "    <tr style=\"text-align: right;\">\n",
              "      <th></th>\n",
              "      <th>nome</th>\n",
              "      <th>idade</th>\n",
              "      <th>sexo</th>\n",
              "    </tr>\n",
              "    <tr>\n",
              "      <th>Indice</th>\n",
              "      <th></th>\n",
              "      <th></th>\n",
              "      <th></th>\n",
              "    </tr>\n",
              "  </thead>\n",
              "  <tbody>\n",
              "    <tr>\n",
              "      <th>1</th>\n",
              "      <td>lucas</td>\n",
              "      <td>26</td>\n",
              "      <td>M</td>\n",
              "    </tr>\n",
              "    <tr>\n",
              "      <th>3</th>\n",
              "      <td>eduarda</td>\n",
              "      <td>22</td>\n",
              "      <td>F</td>\n",
              "    </tr>\n",
              "    <tr>\n",
              "      <th>5</th>\n",
              "      <td>jose</td>\n",
              "      <td>60</td>\n",
              "      <td>M</td>\n",
              "    </tr>\n",
              "    <tr>\n",
              "      <th>7</th>\n",
              "      <td>maria</td>\n",
              "      <td>56</td>\n",
              "      <td>F</td>\n",
              "    </tr>\n",
              "  </tbody>\n",
              "</table>\n",
              "</div>"
            ],
            "text/plain": [
              "           nome  idade sexo\n",
              "Indice                     \n",
              "1         lucas     26    M\n",
              "3       eduarda     22    F\n",
              "5          jose     60    M\n",
              "7         maria     56    F"
            ]
          },
          "metadata": {
            "tags": []
          },
          "execution_count": 13
        }
      ]
    },
    {
      "cell_type": "code",
      "metadata": {
        "id": "S0issorEpNcf",
        "colab_type": "code",
        "colab": {
          "base_uri": "https://localhost:8080/",
          "height": 34
        },
        "outputId": "7717cbf6-1310-4d8d-fe86-f98dedde7322"
      },
      "source": [
        "exemplo_info.index # Exibir a estrutura da coluna indice"
      ],
      "execution_count": 14,
      "outputs": [
        {
          "output_type": "execute_result",
          "data": {
            "text/plain": [
              "Int64Index([1, 3, 5, 7], dtype='int64', name='Indice')"
            ]
          },
          "metadata": {
            "tags": []
          },
          "execution_count": 14
        }
      ]
    },
    {
      "cell_type": "markdown",
      "metadata": {
        "id": "bRgJ4tM6vfvk",
        "colab_type": "text"
      },
      "source": [
        "### ***Values*** Mostrar valores exibir o valores do DataFrame e forma de lista, mas sem o index\n"
      ]
    },
    {
      "cell_type": "code",
      "metadata": {
        "id": "uvFegze2v6u1",
        "colab_type": "code",
        "outputId": "2fe1aaeb-eae8-49c3-fd3b-3497586e2ab0",
        "colab": {
          "base_uri": "https://localhost:8080/",
          "height": 85
        }
      },
      "source": [
        "exemplo_info.values"
      ],
      "execution_count": 15,
      "outputs": [
        {
          "output_type": "execute_result",
          "data": {
            "text/plain": [
              "array([['lucas', 26, 'M'],\n",
              "       ['eduarda', 22, 'F'],\n",
              "       ['jose', 60, 'M'],\n",
              "       ['maria', 56, 'F']], dtype=object)"
            ]
          },
          "metadata": {
            "tags": []
          },
          "execution_count": 15
        }
      ]
    },
    {
      "cell_type": "markdown",
      "metadata": {
        "id": "cBELdalHxXfC",
        "colab_type": "text"
      },
      "source": [
        "### ***Columns*** Mostra em formato de lista o rotulos da colunas sem o index"
      ]
    },
    {
      "cell_type": "code",
      "metadata": {
        "id": "T-F55uVfv_nM",
        "colab_type": "code",
        "outputId": "94c5c421-3449-4a71-e7f1-3cad7179bdc3",
        "colab": {
          "base_uri": "https://localhost:8080/",
          "height": 34
        }
      },
      "source": [
        "exemplo_info.columns "
      ],
      "execution_count": 16,
      "outputs": [
        {
          "output_type": "execute_result",
          "data": {
            "text/plain": [
              "Index(['nome', 'idade', 'sexo'], dtype='object')"
            ]
          },
          "metadata": {
            "tags": []
          },
          "execution_count": 16
        }
      ]
    },
    {
      "cell_type": "markdown",
      "metadata": {
        "id": "SKo0kujm1OzC",
        "colab_type": "text"
      },
      "source": [
        "## Usando loc e Iloc"
      ]
    },
    {
      "cell_type": "markdown",
      "metadata": {
        "id": "jORYowTd2Ded",
        "colab_type": "text"
      },
      "source": [
        "> O loc realizar a buscar baseado no indice definido da DataFrame.\n",
        ">> Lembrando caso não seja passado nenhum indice python vai retorna um erro"
      ]
    },
    {
      "cell_type": "markdown",
      "metadata": {
        "id": "-mgSHr40-yBz",
        "colab_type": "text"
      },
      "source": [
        "### loc"
      ]
    },
    {
      "cell_type": "code",
      "metadata": {
        "id": "Tgltyg__waV3",
        "colab_type": "code",
        "outputId": "4361af5d-47f5-4edb-a6d9-f2608eef27fe",
        "colab": {
          "base_uri": "https://localhost:8080/",
          "height": 173
        }
      },
      "source": [
        "exemplo_info.loc[[1,3,5]]"
      ],
      "execution_count": 17,
      "outputs": [
        {
          "output_type": "execute_result",
          "data": {
            "text/html": [
              "<div>\n",
              "<style scoped>\n",
              "    .dataframe tbody tr th:only-of-type {\n",
              "        vertical-align: middle;\n",
              "    }\n",
              "\n",
              "    .dataframe tbody tr th {\n",
              "        vertical-align: top;\n",
              "    }\n",
              "\n",
              "    .dataframe thead th {\n",
              "        text-align: right;\n",
              "    }\n",
              "</style>\n",
              "<table border=\"1\" class=\"dataframe\">\n",
              "  <thead>\n",
              "    <tr style=\"text-align: right;\">\n",
              "      <th></th>\n",
              "      <th>nome</th>\n",
              "      <th>idade</th>\n",
              "      <th>sexo</th>\n",
              "    </tr>\n",
              "    <tr>\n",
              "      <th>Indice</th>\n",
              "      <th></th>\n",
              "      <th></th>\n",
              "      <th></th>\n",
              "    </tr>\n",
              "  </thead>\n",
              "  <tbody>\n",
              "    <tr>\n",
              "      <th>1</th>\n",
              "      <td>lucas</td>\n",
              "      <td>26</td>\n",
              "      <td>M</td>\n",
              "    </tr>\n",
              "    <tr>\n",
              "      <th>3</th>\n",
              "      <td>eduarda</td>\n",
              "      <td>22</td>\n",
              "      <td>F</td>\n",
              "    </tr>\n",
              "    <tr>\n",
              "      <th>5</th>\n",
              "      <td>jose</td>\n",
              "      <td>60</td>\n",
              "      <td>M</td>\n",
              "    </tr>\n",
              "  </tbody>\n",
              "</table>\n",
              "</div>"
            ],
            "text/plain": [
              "           nome  idade sexo\n",
              "Indice                     \n",
              "1         lucas     26    M\n",
              "3       eduarda     22    F\n",
              "5          jose     60    M"
            ]
          },
          "metadata": {
            "tags": []
          },
          "execution_count": 17
        }
      ]
    },
    {
      "cell_type": "markdown",
      "metadata": {
        "id": "kwlMyZXS3geY",
        "colab_type": "text"
      },
      "source": [
        "Também podemos chama por linhas ou no caso pelo dado "
      ]
    },
    {
      "cell_type": "code",
      "metadata": {
        "id": "scp6GfeU1NpG",
        "colab_type": "code",
        "outputId": "9b12b2ab-784c-453c-dbe0-fdb1db438b7a",
        "colab": {
          "base_uri": "https://localhost:8080/",
          "height": 204
        }
      },
      "source": [
        "exemplo_2 = exemplo_info.set_index('nome')\n",
        "exemplo_2"
      ],
      "execution_count": 18,
      "outputs": [
        {
          "output_type": "execute_result",
          "data": {
            "text/html": [
              "<div>\n",
              "<style scoped>\n",
              "    .dataframe tbody tr th:only-of-type {\n",
              "        vertical-align: middle;\n",
              "    }\n",
              "\n",
              "    .dataframe tbody tr th {\n",
              "        vertical-align: top;\n",
              "    }\n",
              "\n",
              "    .dataframe thead th {\n",
              "        text-align: right;\n",
              "    }\n",
              "</style>\n",
              "<table border=\"1\" class=\"dataframe\">\n",
              "  <thead>\n",
              "    <tr style=\"text-align: right;\">\n",
              "      <th></th>\n",
              "      <th>idade</th>\n",
              "      <th>sexo</th>\n",
              "    </tr>\n",
              "    <tr>\n",
              "      <th>nome</th>\n",
              "      <th></th>\n",
              "      <th></th>\n",
              "    </tr>\n",
              "  </thead>\n",
              "  <tbody>\n",
              "    <tr>\n",
              "      <th>lucas</th>\n",
              "      <td>26</td>\n",
              "      <td>M</td>\n",
              "    </tr>\n",
              "    <tr>\n",
              "      <th>eduarda</th>\n",
              "      <td>22</td>\n",
              "      <td>F</td>\n",
              "    </tr>\n",
              "    <tr>\n",
              "      <th>jose</th>\n",
              "      <td>60</td>\n",
              "      <td>M</td>\n",
              "    </tr>\n",
              "    <tr>\n",
              "      <th>maria</th>\n",
              "      <td>56</td>\n",
              "      <td>F</td>\n",
              "    </tr>\n",
              "  </tbody>\n",
              "</table>\n",
              "</div>"
            ],
            "text/plain": [
              "         idade sexo\n",
              "nome               \n",
              "lucas       26    M\n",
              "eduarda     22    F\n",
              "jose        60    M\n",
              "maria       56    F"
            ]
          },
          "metadata": {
            "tags": []
          },
          "execution_count": 18
        }
      ]
    },
    {
      "cell_type": "code",
      "metadata": {
        "id": "rAoCWK703_Ws",
        "colab_type": "code",
        "outputId": "d0c1fc6c-491f-4d94-ddd2-56d92e65eb3c",
        "colab": {
          "base_uri": "https://localhost:8080/",
          "height": 68
        }
      },
      "source": [
        "exemplo_2.loc['lucas']"
      ],
      "execution_count": 19,
      "outputs": [
        {
          "output_type": "execute_result",
          "data": {
            "text/plain": [
              "idade    26\n",
              "sexo      M\n",
              "Name: lucas, dtype: object"
            ]
          },
          "metadata": {
            "tags": []
          },
          "execution_count": 19
        }
      ]
    },
    {
      "cell_type": "markdown",
      "metadata": {
        "id": "-CCOlv2V5XZ9",
        "colab_type": "text"
      },
      "source": [
        ">**Pode ser passados mais de item para loc**  \n",
        ">**No codigo a baixo só mostrar a coluna que foi informada no segundo 'lista' ou 'paramentos'**\n",
        ">> ***Lembrando que a primeira lista se refere a linha e a segunda a coluna***\n",
        ">>> *O indice e sempre mostrado*"
      ]
    },
    {
      "cell_type": "code",
      "metadata": {
        "id": "Duip---M5ron",
        "colab_type": "code",
        "outputId": "b998e48c-6393-45b3-c52a-dd3267ca7350",
        "colab": {
          "base_uri": "https://localhost:8080/",
          "height": 142
        }
      },
      "source": [
        "exemplo_2.loc[['lucas','maria'],['idade']]"
      ],
      "execution_count": 20,
      "outputs": [
        {
          "output_type": "execute_result",
          "data": {
            "text/html": [
              "<div>\n",
              "<style scoped>\n",
              "    .dataframe tbody tr th:only-of-type {\n",
              "        vertical-align: middle;\n",
              "    }\n",
              "\n",
              "    .dataframe tbody tr th {\n",
              "        vertical-align: top;\n",
              "    }\n",
              "\n",
              "    .dataframe thead th {\n",
              "        text-align: right;\n",
              "    }\n",
              "</style>\n",
              "<table border=\"1\" class=\"dataframe\">\n",
              "  <thead>\n",
              "    <tr style=\"text-align: right;\">\n",
              "      <th></th>\n",
              "      <th>idade</th>\n",
              "    </tr>\n",
              "    <tr>\n",
              "      <th>nome</th>\n",
              "      <th></th>\n",
              "    </tr>\n",
              "  </thead>\n",
              "  <tbody>\n",
              "    <tr>\n",
              "      <th>lucas</th>\n",
              "      <td>26</td>\n",
              "    </tr>\n",
              "    <tr>\n",
              "      <th>maria</th>\n",
              "      <td>56</td>\n",
              "    </tr>\n",
              "  </tbody>\n",
              "</table>\n",
              "</div>"
            ],
            "text/plain": [
              "       idade\n",
              "nome        \n",
              "lucas     26\n",
              "maria     56"
            ]
          },
          "metadata": {
            "tags": []
          },
          "execution_count": 20
        }
      ]
    },
    {
      "cell_type": "markdown",
      "metadata": {
        "id": "roVPeXOg8b1M",
        "colab_type": "text"
      },
      "source": [
        "### Com o loc podemos cobinar operações lógicas."
      ]
    },
    {
      "cell_type": "code",
      "metadata": {
        "id": "F_HYrYlY82Jo",
        "colab_type": "code",
        "outputId": "e03a4b9a-714e-4614-d29a-feede3200143",
        "colab": {
          "base_uri": "https://localhost:8080/",
          "height": 142
        }
      },
      "source": [
        "exemplo_2.loc[(exemplo_2['idade'])<=26]"
      ],
      "execution_count": 16,
      "outputs": [
        {
          "output_type": "execute_result",
          "data": {
            "text/html": [
              "<div>\n",
              "<style scoped>\n",
              "    .dataframe tbody tr th:only-of-type {\n",
              "        vertical-align: middle;\n",
              "    }\n",
              "\n",
              "    .dataframe tbody tr th {\n",
              "        vertical-align: top;\n",
              "    }\n",
              "\n",
              "    .dataframe thead th {\n",
              "        text-align: right;\n",
              "    }\n",
              "</style>\n",
              "<table border=\"1\" class=\"dataframe\">\n",
              "  <thead>\n",
              "    <tr style=\"text-align: right;\">\n",
              "      <th></th>\n",
              "      <th>idade</th>\n",
              "      <th>sexo</th>\n",
              "    </tr>\n",
              "    <tr>\n",
              "      <th>nome</th>\n",
              "      <th></th>\n",
              "      <th></th>\n",
              "    </tr>\n",
              "  </thead>\n",
              "  <tbody>\n",
              "    <tr>\n",
              "      <th>lucas</th>\n",
              "      <td>26</td>\n",
              "      <td>M</td>\n",
              "    </tr>\n",
              "    <tr>\n",
              "      <th>eduarda</th>\n",
              "      <td>22</td>\n",
              "      <td>F</td>\n",
              "    </tr>\n",
              "  </tbody>\n",
              "</table>\n",
              "</div>"
            ],
            "text/plain": [
              "         idade sexo\n",
              "nome               \n",
              "lucas       26    M\n",
              "eduarda     22    F"
            ]
          },
          "metadata": {
            "tags": []
          },
          "execution_count": 16
        }
      ]
    },
    {
      "cell_type": "markdown",
      "metadata": {
        "id": "YIcY-hbd-cpS",
        "colab_type": "text"
      },
      "source": [
        "### Usando Iloc "
      ]
    },
    {
      "cell_type": "markdown",
      "metadata": {
        "id": "WEC_Ei7K-5Nr",
        "colab_type": "text"
      },
      "source": [
        "Diferente do loc o iloc não buscar pelo index, mas lista todos os item do DataFrame de acordo com sua posição como se fosse uma lista python, primeiro indice 0 somando um a cada item ."
      ]
    },
    {
      "cell_type": "code",
      "metadata": {
        "id": "6gSdUft1-qz8",
        "colab_type": "code",
        "outputId": "f8da7b5d-b388-4a94-86e2-831f67097193",
        "colab": {
          "base_uri": "https://localhost:8080/",
          "height": 204
        }
      },
      "source": [
        "exemplo_2.iloc[0:4]"
      ],
      "execution_count": 21,
      "outputs": [
        {
          "output_type": "execute_result",
          "data": {
            "text/html": [
              "<div>\n",
              "<style scoped>\n",
              "    .dataframe tbody tr th:only-of-type {\n",
              "        vertical-align: middle;\n",
              "    }\n",
              "\n",
              "    .dataframe tbody tr th {\n",
              "        vertical-align: top;\n",
              "    }\n",
              "\n",
              "    .dataframe thead th {\n",
              "        text-align: right;\n",
              "    }\n",
              "</style>\n",
              "<table border=\"1\" class=\"dataframe\">\n",
              "  <thead>\n",
              "    <tr style=\"text-align: right;\">\n",
              "      <th></th>\n",
              "      <th>idade</th>\n",
              "      <th>sexo</th>\n",
              "    </tr>\n",
              "    <tr>\n",
              "      <th>nome</th>\n",
              "      <th></th>\n",
              "      <th></th>\n",
              "    </tr>\n",
              "  </thead>\n",
              "  <tbody>\n",
              "    <tr>\n",
              "      <th>lucas</th>\n",
              "      <td>26</td>\n",
              "      <td>M</td>\n",
              "    </tr>\n",
              "    <tr>\n",
              "      <th>eduarda</th>\n",
              "      <td>22</td>\n",
              "      <td>F</td>\n",
              "    </tr>\n",
              "    <tr>\n",
              "      <th>jose</th>\n",
              "      <td>60</td>\n",
              "      <td>M</td>\n",
              "    </tr>\n",
              "    <tr>\n",
              "      <th>maria</th>\n",
              "      <td>56</td>\n",
              "      <td>F</td>\n",
              "    </tr>\n",
              "  </tbody>\n",
              "</table>\n",
              "</div>"
            ],
            "text/plain": [
              "         idade sexo\n",
              "nome               \n",
              "lucas       26    M\n",
              "eduarda     22    F\n",
              "jose        60    M\n",
              "maria       56    F"
            ]
          },
          "metadata": {
            "tags": []
          },
          "execution_count": 21
        }
      ]
    },
    {
      "cell_type": "markdown",
      "metadata": {
        "id": "fqIReEiaJND7",
        "colab_type": "text"
      },
      "source": [
        "Mostrando todo DataFrame\n"
      ]
    },
    {
      "cell_type": "code",
      "metadata": {
        "id": "Mjc0D9G5JZFU",
        "colab_type": "code",
        "outputId": "a8cb41f7-fb8b-4090-b4a5-f336b124db25",
        "colab": {
          "base_uri": "https://localhost:8080/",
          "height": 204
        }
      },
      "source": [
        "exemplo_2.iloc[:]"
      ],
      "execution_count": 22,
      "outputs": [
        {
          "output_type": "execute_result",
          "data": {
            "text/html": [
              "<div>\n",
              "<style scoped>\n",
              "    .dataframe tbody tr th:only-of-type {\n",
              "        vertical-align: middle;\n",
              "    }\n",
              "\n",
              "    .dataframe tbody tr th {\n",
              "        vertical-align: top;\n",
              "    }\n",
              "\n",
              "    .dataframe thead th {\n",
              "        text-align: right;\n",
              "    }\n",
              "</style>\n",
              "<table border=\"1\" class=\"dataframe\">\n",
              "  <thead>\n",
              "    <tr style=\"text-align: right;\">\n",
              "      <th></th>\n",
              "      <th>idade</th>\n",
              "      <th>sexo</th>\n",
              "    </tr>\n",
              "    <tr>\n",
              "      <th>nome</th>\n",
              "      <th></th>\n",
              "      <th></th>\n",
              "    </tr>\n",
              "  </thead>\n",
              "  <tbody>\n",
              "    <tr>\n",
              "      <th>lucas</th>\n",
              "      <td>26</td>\n",
              "      <td>M</td>\n",
              "    </tr>\n",
              "    <tr>\n",
              "      <th>eduarda</th>\n",
              "      <td>22</td>\n",
              "      <td>F</td>\n",
              "    </tr>\n",
              "    <tr>\n",
              "      <th>jose</th>\n",
              "      <td>60</td>\n",
              "      <td>M</td>\n",
              "    </tr>\n",
              "    <tr>\n",
              "      <th>maria</th>\n",
              "      <td>56</td>\n",
              "      <td>F</td>\n",
              "    </tr>\n",
              "  </tbody>\n",
              "</table>\n",
              "</div>"
            ],
            "text/plain": [
              "         idade sexo\n",
              "nome               \n",
              "lucas       26    M\n",
              "eduarda     22    F\n",
              "jose        60    M\n",
              "maria       56    F"
            ]
          },
          "metadata": {
            "tags": []
          },
          "execution_count": 22
        }
      ]
    },
    {
      "cell_type": "code",
      "metadata": {
        "id": "2CtM-OuWNd9U",
        "colab_type": "code",
        "colab": {
          "base_uri": "https://localhost:8080/",
          "height": 68
        },
        "outputId": "4feaa39c-d95a-49a1-eb99-c198a769dceb"
      },
      "source": [
        "exemplo_2.iloc[-1]"
      ],
      "execution_count": 23,
      "outputs": [
        {
          "output_type": "execute_result",
          "data": {
            "text/plain": [
              "idade    56\n",
              "sexo      F\n",
              "Name: maria, dtype: object"
            ]
          },
          "metadata": {
            "tags": []
          },
          "execution_count": 23
        }
      ]
    },
    {
      "cell_type": "code",
      "metadata": {
        "id": "5sAROUQOSpN6",
        "colab_type": "code",
        "colab": {
          "base_uri": "https://localhost:8080/",
          "height": 173
        },
        "outputId": "cc697c2d-c9e9-4938-d38f-8af431087dd0"
      },
      "source": [
        "exemplo_2.iloc[0:3,[0,1]] #lambda x: x.index % 2 == 0"
      ],
      "execution_count": 28,
      "outputs": [
        {
          "output_type": "execute_result",
          "data": {
            "text/html": [
              "<div>\n",
              "<style scoped>\n",
              "    .dataframe tbody tr th:only-of-type {\n",
              "        vertical-align: middle;\n",
              "    }\n",
              "\n",
              "    .dataframe tbody tr th {\n",
              "        vertical-align: top;\n",
              "    }\n",
              "\n",
              "    .dataframe thead th {\n",
              "        text-align: right;\n",
              "    }\n",
              "</style>\n",
              "<table border=\"1\" class=\"dataframe\">\n",
              "  <thead>\n",
              "    <tr style=\"text-align: right;\">\n",
              "      <th></th>\n",
              "      <th>idade</th>\n",
              "      <th>sexo</th>\n",
              "    </tr>\n",
              "    <tr>\n",
              "      <th>nome</th>\n",
              "      <th></th>\n",
              "      <th></th>\n",
              "    </tr>\n",
              "  </thead>\n",
              "  <tbody>\n",
              "    <tr>\n",
              "      <th>lucas</th>\n",
              "      <td>26</td>\n",
              "      <td>M</td>\n",
              "    </tr>\n",
              "    <tr>\n",
              "      <th>eduarda</th>\n",
              "      <td>22</td>\n",
              "      <td>F</td>\n",
              "    </tr>\n",
              "    <tr>\n",
              "      <th>jose</th>\n",
              "      <td>60</td>\n",
              "      <td>M</td>\n",
              "    </tr>\n",
              "  </tbody>\n",
              "</table>\n",
              "</div>"
            ],
            "text/plain": [
              "         idade sexo\n",
              "nome               \n",
              "lucas       26    M\n",
              "eduarda     22    F\n",
              "jose        60    M"
            ]
          },
          "metadata": {
            "tags": []
          },
          "execution_count": 28
        }
      ]
    },
    {
      "cell_type": "markdown",
      "metadata": {
        "id": "-Mfu3HtyEuMQ",
        "colab_type": "text"
      },
      "source": [
        "> iloc funciona da mesma forma que loc primeiro paramentro linha segundo paramentro coluna "
      ]
    },
    {
      "cell_type": "code",
      "metadata": {
        "id": "TAdcsmZ2FD0D",
        "colab_type": "code",
        "colab": {
          "base_uri": "https://localhost:8080/",
          "height": 306
        },
        "outputId": "1efde3f5-22ed-45b4-a695-96d16edc51e7"
      },
      "source": [
        "exemplo_2.iloc[lambda x : x.idade / 2 > 20]"
      ],
      "execution_count": 34,
      "outputs": [
        {
          "output_type": "error",
          "ename": "ValueError",
          "evalue": "ignored",
          "traceback": [
            "\u001b[0;31m---------------------------------------------------------------------------\u001b[0m",
            "\u001b[0;31mValueError\u001b[0m                                Traceback (most recent call last)",
            "\u001b[0;32m<ipython-input-34-47c02402495f>\u001b[0m in \u001b[0;36m<module>\u001b[0;34m()\u001b[0m\n\u001b[0;32m----> 1\u001b[0;31m \u001b[0mexemplo_2\u001b[0m\u001b[0;34m.\u001b[0m\u001b[0miloc\u001b[0m\u001b[0;34m[\u001b[0m\u001b[0;32mlambda\u001b[0m \u001b[0mx\u001b[0m \u001b[0;34m:\u001b[0m \u001b[0mx\u001b[0m\u001b[0;34m.\u001b[0m\u001b[0midade\u001b[0m \u001b[0;34m/\u001b[0m \u001b[0;36m2\u001b[0m \u001b[0;34m>\u001b[0m \u001b[0;36m20\u001b[0m\u001b[0;34m]\u001b[0m\u001b[0;34m\u001b[0m\u001b[0;34m\u001b[0m\u001b[0m\n\u001b[0m",
            "\u001b[0;32m/usr/local/lib/python3.6/dist-packages/pandas/core/indexing.py\u001b[0m in \u001b[0;36m__getitem__\u001b[0;34m(self, key)\u001b[0m\n\u001b[1;32m   1498\u001b[0m \u001b[0;34m\u001b[0m\u001b[0m\n\u001b[1;32m   1499\u001b[0m             \u001b[0mmaybe_callable\u001b[0m \u001b[0;34m=\u001b[0m \u001b[0mcom\u001b[0m\u001b[0;34m.\u001b[0m\u001b[0mapply_if_callable\u001b[0m\u001b[0;34m(\u001b[0m\u001b[0mkey\u001b[0m\u001b[0;34m,\u001b[0m \u001b[0mself\u001b[0m\u001b[0;34m.\u001b[0m\u001b[0mobj\u001b[0m\u001b[0;34m)\u001b[0m\u001b[0;34m\u001b[0m\u001b[0;34m\u001b[0m\u001b[0m\n\u001b[0;32m-> 1500\u001b[0;31m             \u001b[0;32mreturn\u001b[0m \u001b[0mself\u001b[0m\u001b[0;34m.\u001b[0m\u001b[0m_getitem_axis\u001b[0m\u001b[0;34m(\u001b[0m\u001b[0mmaybe_callable\u001b[0m\u001b[0;34m,\u001b[0m \u001b[0maxis\u001b[0m\u001b[0;34m=\u001b[0m\u001b[0maxis\u001b[0m\u001b[0;34m)\u001b[0m\u001b[0;34m\u001b[0m\u001b[0;34m\u001b[0m\u001b[0m\n\u001b[0m\u001b[1;32m   1501\u001b[0m \u001b[0;34m\u001b[0m\u001b[0m\n\u001b[1;32m   1502\u001b[0m     \u001b[0;32mdef\u001b[0m \u001b[0m_is_scalar_access\u001b[0m\u001b[0;34m(\u001b[0m\u001b[0mself\u001b[0m\u001b[0;34m,\u001b[0m \u001b[0mkey\u001b[0m\u001b[0;34m)\u001b[0m\u001b[0;34m:\u001b[0m\u001b[0;34m\u001b[0m\u001b[0;34m\u001b[0m\u001b[0m\n",
            "\u001b[0;32m/usr/local/lib/python3.6/dist-packages/pandas/core/indexing.py\u001b[0m in \u001b[0;36m_getitem_axis\u001b[0;34m(self, key, axis)\u001b[0m\n\u001b[1;32m   2214\u001b[0m \u001b[0;34m\u001b[0m\u001b[0m\n\u001b[1;32m   2215\u001b[0m         \u001b[0;32mif\u001b[0m \u001b[0mcom\u001b[0m\u001b[0;34m.\u001b[0m\u001b[0mis_bool_indexer\u001b[0m\u001b[0;34m(\u001b[0m\u001b[0mkey\u001b[0m\u001b[0;34m)\u001b[0m\u001b[0;34m:\u001b[0m\u001b[0;34m\u001b[0m\u001b[0;34m\u001b[0m\u001b[0m\n\u001b[0;32m-> 2216\u001b[0;31m             \u001b[0mself\u001b[0m\u001b[0;34m.\u001b[0m\u001b[0m_validate_key\u001b[0m\u001b[0;34m(\u001b[0m\u001b[0mkey\u001b[0m\u001b[0;34m,\u001b[0m \u001b[0maxis\u001b[0m\u001b[0;34m)\u001b[0m\u001b[0;34m\u001b[0m\u001b[0;34m\u001b[0m\u001b[0m\n\u001b[0m\u001b[1;32m   2217\u001b[0m             \u001b[0;32mreturn\u001b[0m \u001b[0mself\u001b[0m\u001b[0;34m.\u001b[0m\u001b[0m_getbool_axis\u001b[0m\u001b[0;34m(\u001b[0m\u001b[0mkey\u001b[0m\u001b[0;34m,\u001b[0m \u001b[0maxis\u001b[0m\u001b[0;34m=\u001b[0m\u001b[0maxis\u001b[0m\u001b[0;34m)\u001b[0m\u001b[0;34m\u001b[0m\u001b[0;34m\u001b[0m\u001b[0m\n\u001b[1;32m   2218\u001b[0m \u001b[0;34m\u001b[0m\u001b[0m\n",
            "\u001b[0;32m/usr/local/lib/python3.6/dist-packages/pandas/core/indexing.py\u001b[0m in \u001b[0;36m_validate_key\u001b[0;34m(self, key, axis)\u001b[0m\n\u001b[1;32m   2061\u001b[0m                                               \u001b[0;34m\"indexing on an integer type \"\u001b[0m\u001b[0;34m\u001b[0m\u001b[0;34m\u001b[0m\u001b[0m\n\u001b[1;32m   2062\u001b[0m                                               \"is not available\")\n\u001b[0;32m-> 2063\u001b[0;31m                 raise ValueError(\"iLocation based boolean indexing cannot use \"\n\u001b[0m\u001b[1;32m   2064\u001b[0m                                  \"an indexable as a mask\")\n\u001b[1;32m   2065\u001b[0m             \u001b[0;32mreturn\u001b[0m\u001b[0;34m\u001b[0m\u001b[0;34m\u001b[0m\u001b[0m\n",
            "\u001b[0;31mValueError\u001b[0m: iLocation based boolean indexing cannot use an indexable as a mask"
          ]
        }
      ]
    }
  ]
}